{
 "cells": [
  {
   "cell_type": "markdown",
   "metadata": {},
   "source": [
    "# Waveguide Conductor Loss\n",
    "\n",
    "Calculate waveguide conductor loss for different waveguide sizes."
   ]
  },
  {
   "cell_type": "code",
   "execution_count": 1,
   "metadata": {},
   "outputs": [],
   "source": [
    "import numpy as np\n",
    "import scipy.constants as sc\n",
    "import matplotlib.pyplot as plt\n",
    "\n",
    "from waveguide import conductor_loss, cutoff_frequency, np2db, skin_depth"
   ]
  },
  {
   "cell_type": "markdown",
   "metadata": {},
   "source": [
    "# Estimate Conductor Loss for a Variety of Waveguide Sizes\n",
    "\n",
    "Assuming that they are gold-plated with a surface roughness factor of 1.5"
   ]
  },
  {
   "cell_type": "code",
   "execution_count": 2,
   "metadata": {},
   "outputs": [],
   "source": [
    "# Approximate conductivity of gold\n",
    "conductivity = 4.1e7\n",
    "roughness_factor = 1.5\n",
    "conductivity_rough = conductivity / roughness_factor ** 2"
   ]
  },
  {
   "cell_type": "code",
   "execution_count": 3,
   "metadata": {},
   "outputs": [],
   "source": [
    "# Waveguide sizes\n",
    "# omit WR-90 and WR-42 which do not have a 2:1 aspect ratio\n",
    "wr_sizes = [75, 62, 51, 34, 28, 22.4, 18.8, 14.8, 12.2, 10.0, 6.5, 5.1, 4.3, 3.4, 2.8, 2.2, 1.9, 1.5, 1.2, 1.0]"
   ]
  },
  {
   "cell_type": "code",
   "execution_count": 4,
   "metadata": {},
   "outputs": [
    {
     "name": "stdout",
     "output_type": "stream",
     "text": [
      "WR-75   & $ 19.050 \\times  9.525$ & $   9.8 -   15.0$ & $0.0031 - 0.0021$ \\\\\n",
      "WR-62   & $ 15.748 \\times  7.874$ & $  11.9 -   18.1$ & $0.0041 - 0.0028$ \\\\\n",
      "WR-51   & $ 12.954 \\times  6.477$ & $  14.5 -   22.0$ & $0.0054 - 0.0037$ \\\\\n",
      "WR-34   & $  8.636 \\times  4.318$ & $  21.7 -   33.0$ & $0.0100 - 0.0068$ \\\\\n",
      "WR-28   & $  7.112 \\times  3.556$ & $  26.3 -   40.0$ & $0.0134 - 0.0091$ \\\\\n",
      "WR-22.4 & $  5.690 \\times  2.845$ & $  32.9 -   50.1$ & $0.0187 - 0.0127$ \\\\\n",
      "WR-18.8 & $  4.775 \\times  2.388$ & $  39.2 -   59.6$ & $0.0243 - 0.0165$ \\\\\n",
      "WR-14.8 & $  3.759 \\times  1.880$ & $  49.8 -   75.8$ & $0.0348 - 0.0236$ \\\\\n",
      "WR-12.2 & $  3.099 \\times  1.549$ & $  60.5 -   91.9$ & $0.0466 - 0.0315$ \\\\\n",
      "WR-10.0 & $  2.540 \\times  1.270$ & $  73.8 -  112.1$ & $0.0627 - 0.0425$ \\\\\n",
      "WR-6.5  & $  1.651 \\times  0.825$ & $ 113.5 -  172.5$ & $0.1197 - 0.0811$ \\\\\n",
      "WR-5.1  & $  1.295 \\times  0.648$ & $ 144.6 -  219.9$ & $0.1722 - 0.1167$ \\\\\n",
      "WR-4.3  & $  1.092 \\times  0.546$ & $ 171.6 -  260.8$ & $0.2225 - 0.1507$ \\\\\n",
      "WR-3.4  & $  0.864 \\times  0.432$ & $ 217.0 -  329.8$ & $0.3164 - 0.2143$ \\\\\n",
      "WR-2.8  & $  0.711 \\times  0.356$ & $ 263.5 -  400.5$ & $0.4234 - 0.2868$ \\\\\n",
      "WR-2.2  & $  0.559 \\times  0.279$ & $ 335.3 -  509.7$ & $0.6079 - 0.4118$ \\\\\n",
      "WR-1.9  & $  0.483 \\times  0.241$ & $ 388.3 -  590.1$ & $0.7575 - 0.5131$ \\\\\n",
      "WR-1.5  & $  0.381 \\times  0.190$ & $ 491.8 -  747.5$ & $1.0798 - 0.7315$ \\\\\n",
      "WR-1.2  & $  0.305 \\times  0.152$ & $ 614.7 -  934.4$ & $1.5091 - 1.0223$ \\\\\n",
      "WR-1.0  & $  0.254 \\times  0.127$ & $ 737.7 - 1121.3$ & $1.9837 - 1.3438$ \\\\\n"
     ]
    }
   ],
   "source": [
    "loss_values = []\n",
    "center_frequency = []\n",
    "for wr in wr_sizes:\n",
    "    \n",
    "    a, b = wr*10*sc.mil, wr*5*sc.mil\n",
    "    fc = cutoff_frequency(a, b)\n",
    "    f1, f2, f3 = 1.25*fc, (1.25+1.90)*fc/2, 1.9*fc\n",
    "    f = np.array([f1, f2, f3])\n",
    "    waveguide_name = \"WR-{}\".format(wr)\n",
    "    loss = np2db(conductor_loss(f, conductivity_rough, a, b))/100  # dB/m\n",
    "    loss_values.append(10**(-loss[1]/10))  # linear\n",
    "    center_frequency.append(f2)\n",
    "    \n",
    "    # Waveguide name\n",
    "    print(\"{:7s} & \".format(waveguide_name), end=\"\")\n",
    "    # Waveguide size\n",
    "    print(r\"${:7.3f} \\times {:6.3f}$ & \".format(a/sc.milli, b/sc.milli), end=\"\")\n",
    "    # Waveguide frequency range\n",
    "    print(r\"${:6.1f} - {:6.1f}$ & \".format(f1/sc.giga, f3/sc.giga), end=\"\")\n",
    "    # Waveguide loss\n",
    "    print(r\"${:6.4f} - {:6.4f}$ \\\\\".format(loss[0], loss[2]))"
   ]
  },
  {
   "cell_type": "code",
   "execution_count": 5,
   "metadata": {},
   "outputs": [
    {
     "name": "stdout",
     "output_type": "stream",
     "text": [
      "[3.46102759e-25 1.17348617e-13 9.97888047e-01]\n"
     ]
    },
    {
     "data": {
      "image/png": "[encoded data removed]",
      "text/plain": [
       "<Figure size 432x288 with 1 Axes>"
      ]
     },
     "metadata": {
      "needs_background": "light"
     },
     "output_type": "display_data"
    }
   ],
   "source": [
    "# Polyfit loss at center frequency\n",
    "loss_values = np.array(loss_values)\n",
    "center_frequency = np.array(center_frequency)\n",
    "p = np.polyfit(center_frequency, 1 / loss_values, 2)\n",
    "\n",
    "# Plot fit\n",
    "plt.plot(center_frequency/1e9, 1 / loss_values)\n",
    "plt.plot(center_frequency/1e9, np.polyval(p, center_frequency), 'r--')\n",
    "plt.xlabel(\"Frequency\")\n",
    "plt.ylabel(\"Loss (/m)\")\n",
    "\n",
    "print(p)"
   ]
  },
  {
   "cell_type": "code",
   "execution_count": 6,
   "metadata": {},
   "outputs": [
    {
     "name": "stdout",
     "output_type": "stream",
     "text": [
      "Max error: 0.11 %\n"
     ]
    }
   ],
   "source": [
    "# Maximum error, in %\n",
    "print(\"Max error: {:.2f} %\".format(np.abs((1 / loss_values - np.polyval(p, center_frequency)) * loss_values * 100).max()))"
   ]
  },
  {
   "cell_type": "markdown",
   "metadata": {},
   "source": [
    "# Estimate the Conductor Loss of Various WR-2.8 Waveguides\n",
    "\n",
    "Calculate loss for different waveguide metals."
   ]
  },
  {
   "cell_type": "code",
   "execution_count": 7,
   "metadata": {},
   "outputs": [
    {
     "name": "stdout",
     "output_type": "stream",
     "text": [
      "Al    & 3.816 & $159.8 - 128.8$ & $0.4514 - 0.2974$ \\\\\n",
      "Au    & 4.098 & $154.2 - 124.3$ & $0.4356 - 0.2870$ \\\\\n",
      "Cu    & 5.813 & $129.5 - 104.4$ & $0.3657 - 0.2410$ \\\\\n"
     ]
    }
   ],
   "source": [
    "a, b = 28*sc.mil, 14*sc.mil\n",
    "f = np.array([260e9, 400e9])\n",
    "\n",
    "roughness_factor = 1.5\n",
    "metals = [\"Al\", \"Au\", \"Cu\"]\n",
    "conductivities = [3.816e7, 4.098e7, 5.813e7]\n",
    "\n",
    "for metal, cond in zip(metals, conductivities):\n",
    "    \n",
    "    conductivity_rough = cond / roughness_factor ** 2\n",
    "    loss = np2db(conductor_loss(f, conductivity_rough, a, b, er=1, ur=1))/100  # dB/m\n",
    "    ds = skin_depth(f, cond)\n",
    "\n",
    "    # Metal\n",
    "    print(\"{:2s}    & \".format(metal), end=\"\")\n",
    "    # Conductivity\n",
    "    print(\"{:.3f} & \".format(cond/1e7), end=\"\")\n",
    "    # Skin depth\n",
    "    print(r\"${:5.1f} - {:5.1f}$ & \".format(ds[0]*1e9, ds[1]*1e9), end=\"\")\n",
    "    # Waveguide loss\n",
    "    print(r\"${:6.4f} - {:6.4f}$ \\\\\".format(loss[0], loss[1]))"
   ]
  }
 ],
 "metadata": {
  "kernelspec": {
   "display_name": "Python 3",
   "language": "python",
   "name": "python3"
  },
  "language_info": {
   "codemirror_mode": {
    "name": "ipython",
    "version": 3
   },
   "file_extension": ".py",
   "mimetype": "text/x-python",
   "name": "python",
   "nbconvert_exporter": "python",
   "pygments_lexer": "ipython3",
   "version": "3.8.5"
  }
 },
 "nbformat": 4,
 "nbformat_minor": 2
}
